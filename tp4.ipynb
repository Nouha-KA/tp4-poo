{
 "cells": [
  {
   "cell_type": "code",
   "execution_count": 2,
   "id": "66107e9a",
   "metadata": {},
   "outputs": [
    {
     "name": "stdout",
     "output_type": "stream",
     "text": [
      "Aleatoire Object:\n",
      "Nombre d'échantillons: 20\n",
      "Moyenne: -0.30030603633949504\n",
      "Classe Aléatoire\n",
      "Corrélation: [0.0102798  2.31882031 0.12698237 0.48502433 4.89633686 2.36852171\n",
      " 0.16628945 0.06697386 0.58523252 0.02352524 0.21597319 2.34029288\n",
      " 0.45393757 0.01676219 0.65007884 0.01283344 8.16361625 6.32083222\n",
      " 0.17055965 0.10801988]\n"
     ]
    },
    {
     "data": {
      "image/png": "[encoded data removed]",
      "text/plain": [
       "<Figure size 432x288 with 1 Axes>"
      ]
     },
     "metadata": {
      "needs_background": "light"
     },
     "output_type": "display_data"
    },
    {
     "name": "stdout",
     "output_type": "stream",
     "text": [
      "\n",
      "Deterministe Object:\n",
      "Nombre d'échantillons: 20\n",
      "Moyenne: 0.0\n",
      "Corrélation: 0.8999999999999997\n"
     ]
    },
    {
     "data": {
      "image/png": "[encoded data removed]",
      "text/plain": [
       "<Figure size 432x288 with 1 Axes>"
      ]
     },
     "metadata": {
      "needs_background": "light"
     },
     "output_type": "display_data"
    },
    {
     "name": "stdout",
     "output_type": "stream",
     "text": [
      "\n",
      "Classe Aléatoire\n",
      "Result of Addition:\n",
      "Nombre d'échantillons: 20\n",
      "Moyenne: -0.30030603633949504\n",
      "Corrélation: 0.8234903309224778\n"
     ]
    },
    {
     "data": {
      "image/png": "[encoded data removed]",
      "text/plain": [
       "<Figure size 432x288 with 1 Axes>"
      ]
     },
     "metadata": {
      "needs_background": "light"
     },
     "output_type": "display_data"
    }
   ],
   "source": [
    "import numpy as np\n",
    "import matplotlib.pyplot as plt\n",
    "\n",
    "class Signal:\n",
    "    def __init__(self, nbr):\n",
    "        self.nbr = nbr\n",
    "        self.tab = np.zeros(nbr)\n",
    "\n",
    "    def echantillons(self):\n",
    "        return self.nbr\n",
    "\n",
    "    def moyenne(self):\n",
    "        return np.mean(self.tab)\n",
    "\n",
    "    def correlation(self):\n",
    "        return np.corrcoef(self.tab[:-1], self.tab[1:])[0, 1]\n",
    "\n",
    "    def display(self):\n",
    "        print(f\"Nombre d'échantillons: {self.nbr}\")\n",
    "        print(f\"Moyenne: {self.moyenne()}\")\n",
    "        print(f\"Corrélation: {self.correlation()}\")\n",
    "\n",
    "        plt.stem(self.tab)\n",
    "        plt.title(\"Plot de tab\")\n",
    "        plt.show()\n",
    "\n",
    "class Aleatoire(Signal):\n",
    "    def __init__(self, nbr, sigma, mean):\n",
    "        super().__init__(nbr)\n",
    "        self.sigma = sigma\n",
    "        self.mean = mean\n",
    "        self.Init_Alea()\n",
    "\n",
    "    def Init_Alea(self):\n",
    "        self.tab = np.random.randn(self.nbr) * self.sigma + self.mean\n",
    "\n",
    "    def correlation(self):\n",
    "        print(\"Classe Aléatoire\")\n",
    "        return np.power(self.tab, 2)\n",
    "\n",
    "class Deterministe(Signal):\n",
    "    def __init__(self, nbr, amplitude):\n",
    "        super().__init__(nbr)\n",
    "        self.amplitude = amplitude\n",
    "        self.valeurs()\n",
    "\n",
    "    def valeurs(self):\n",
    "        self.tab[:self.nbr//2] = self.amplitude\n",
    "        self.tab[self.nbr//2:] = -self.amplitude\n",
    "\n",
    "def Addition(aleatoire, deterministe):\n",
    "    result = Deterministe(aleatoire.nbr, 0)  \n",
    "    result.tab = aleatoire.tab + deterministe.tab\n",
    "    return result\n",
    "\n",
    "if __name__ == \"__main__\":\n",
    "\n",
    "    aleatoire_obj = Aleatoire(nbr=20, sigma=1, mean=0)\n",
    "    deterministe_obj = Deterministe(nbr=20, amplitude=5)\n",
    "\n",
    "    print(\"Aleatoire Object:\")\n",
    "    aleatoire_obj.display()\n",
    "    print()\n",
    "\n",
    "    print(\"Deterministe Object:\")\n",
    "    deterministe_obj.display()\n",
    "    print()\n",
    "\n",
    "    aleatoire_obj.correlation()\n",
    "    \n",
    "    S = Addition(aleatoire_obj, deterministe_obj)\n",
    "\n",
    "    print(\"Result of Addition:\")\n",
    "    S.display()\n"
   ]
  },
  {
   "cell_type": "code",
   "execution_count": 3,
   "id": "17e6f953",
   "metadata": {},
   "outputs": [
    {
     "name": "stdout",
     "output_type": "stream",
     "text": [
      "Nom:  dounia\n",
      "ID:  1\n",
      "Salaire:  500000\n",
      "Statut: Employé\n",
      "Nom:  nouha\n",
      "ID:  2\n",
      "Salaire:  500000.0\n",
      "Statut: Ingénieur +  stagiaire\n",
      "Nom:  Bill\n",
      "ID:  3\n",
      "Salaire:  1000000\n"
     ]
    }
   ],
   "source": [
    "class Employee:\n",
    "    def __init__(self, nom, id, pin=500):\n",
    "        self.nom = nom\n",
    "        self.id = id\n",
    "        self.pin = pin\n",
    "\n",
    "    def calcul_prime(self, a):\n",
    "        if a:\n",
    "            return self.pin * 2\n",
    "        else:\n",
    "            return self.pin * 0.5\n",
    "\n",
    "    def salaire(self, prime):\n",
    "        return self.pin * prime\n",
    "\n",
    "    def affiche(self, a):\n",
    "        prime = self.calcul_prime(a)\n",
    "        salaire = self.salaire(prime)\n",
    "        print(\"Nom: \", self.nom)\n",
    "        print(\"ID: \", self.id)\n",
    "        print(\"Salaire: \", salaire)\n",
    "        print(\"Statut: Employé\")\n",
    "\n",
    "\n",
    "class Ingenieur(Employee):\n",
    "    def __init__(self, nom, id, etat, pin=500):\n",
    "        super().__init__(nom, id, pin)\n",
    "        self.etat = etat\n",
    "\n",
    "    def salaire(self, prime):\n",
    "        if self.etat == \"stagiaire\":\n",
    "            return self.pin * 4 * prime\n",
    "        else:\n",
    "            return self.pin * 6 * prime\n",
    "\n",
    "    def affiche(self, a):\n",
    "        prime = self.calcul_prime(a)\n",
    "        salaire = self.salaire(prime)\n",
    "        print(\"Nom: \", self.nom)\n",
    "        print(\"ID: \", self.id)\n",
    "        print(\"Salaire: \", salaire)\n",
    "        print(\"Statut: Ingénieur + \", self.etat)\n",
    "\n",
    "\n",
    "class Technicien(Employee):\n",
    "    \n",
    "    def salaire(self, prime):\n",
    "        return self.pin * 2 * prime\n",
    "\n",
    "    def affiche(self, a):\n",
    "        prime = self.calcul_prime(a)\n",
    "        salaire = self.salaire(prime)\n",
    "        print(\"Nom: \", self.nom)\n",
    "        print(\"ID: \", self.id)\n",
    "        print(\"Salaire: \", salaire)\n",
    "\n",
    "\n",
    "employe = Employee(\"dounia\", 1)\n",
    "ingenieur = Ingenieur(\"nouha\", 2, \"stagiaire\")\n",
    "technicien = Technicien(\"Bill\", 3)\n",
    "\n",
    "employe.affiche(True)\n",
    "ingenieur.affiche(False)\n",
    "technicien.affiche(True)"
   ]
  },
  {
   "cell_type": "code",
   "execution_count": null,
   "id": "3f56ae9e",
   "metadata": {},
   "outputs": [],
   "source": []
  }
 ],
 "metadata": {
  "kernelspec": {
   "display_name": "Python 3 (ipykernel)",
   "language": "python",
   "name": "python3"
  },
  "language_info": {
   "codemirror_mode": {
    "name": "ipython",
    "version": 3
   },
   "file_extension": ".py",
   "mimetype": "text/x-python",
   "name": "python",
   "nbconvert_exporter": "python",
   "pygments_lexer": "ipython3",
   "version": "3.9.12"
  }
 },
 "nbformat": 4,
 "nbformat_minor": 5
}
